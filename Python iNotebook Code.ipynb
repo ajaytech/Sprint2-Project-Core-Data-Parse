{
 "cells": [
  {
   "cell_type": "code",
   "execution_count": 3,
   "metadata": {},
   "outputs": [
    {
     "name": "stdout",
     "output_type": "stream",
     "text": [
      "/Users/apple/Desktop/Python/Recording\r\n"
     ]
    }
   ],
   "source": [
    "!pwd\n"
   ]
  },
  {
   "cell_type": "code",
   "execution_count": 5,
   "metadata": {},
   "outputs": [
    {
     "name": "stdout",
     "output_type": "stream",
     "text": [
      "total 2320968\r\n",
      "-rw-r--r--  1 Ajay  staff        711 Dec  2 18:34 Python Data Parsing.ipynb\r\n",
      "-rw-r--r--@ 1 Ajay  staff  977506331 Dec  2 12:36 amazon-meta.txt\r\n",
      "-rw-r--r--@ 1 Ajay  staff  210807517 Oct 27 21:07 amazon-meta.txt.gz\r\n",
      "-rw-r--r--  1 Ajay  staff      10606 Dec  2 17:53 newData.txt\r\n"
     ]
    }
   ],
   "source": [
    "!ls -l"
   ]
  },
  {
   "cell_type": "code",
   "execution_count": 7,
   "metadata": {
    "collapsed": true
   },
   "outputs": [],
   "source": [
    "import io"
   ]
  },
  {
   "cell_type": "code",
   "execution_count": 17,
   "metadata": {},
   "outputs": [
    {
     "name": "stdout",
     "output_type": "stream",
     "text": [
      "0\n",
      "0771044445\n",
      "1\n",
      "0827229534\n",
      "Patterns of Preaching: A Sermon Sampler\n",
      "Book\n",
      "2\n",
      "0738700797\n",
      "Candlemas: Feast of Flames\n",
      "Book\n",
      "3\n",
      "0486287785\n",
      "World War II Allied Fighter Planes Trading Cards\n",
      "Book\n",
      "4\n",
      "0842328327\n",
      "Life Application Bible Commentary: 1 and 2 Timothy and Titus\n",
      "Book\n",
      "5\n",
      "1577943082\n",
      "Prayers That Avail Much for Business: Executive\n",
      "Book\n",
      "6\n",
      "0486220125\n",
      "How the Other Half Lives: Studies Among the Tenements of New York\n",
      "Book\n",
      "7\n",
      "B00000AU3R\n",
      "Batik\n",
      "Music\n",
      "8\n",
      "0231118597\n",
      "Losing Matt Shepard\n",
      "Book\n",
      "9\n",
      "1859677800\n",
      "Making Bread: The Taste of Traditional Home-Baking\n",
      "Book\n",
      "10\n",
      "0375709363\n",
      "The Edward Said Reader\n",
      "Book\n",
      "11\n",
      "0871318237\n",
      "Resetting the Clock : Five Anti-Aging Hormones That Improve and Extend Life\n",
      "Book\n"
     ]
    }
   ],
   "source": [
    "with io.open(\"newData.txt\",\"r\") as f:\n",
    "    for row in f:\n",
    "        if len(row) > 0:\n",
    "            if not row.strip().find('Id:',0,3) == -1:\n",
    "                print row[3:].strip()\n",
    "            if not row.strip().find('ASIN:',0,5) == -1:\n",
    "                print row[5:].strip()\n",
    "            if not row.strip().find('title:',0,9) == -1:\n",
    "                print row[8:].strip()\n",
    "            if not row.strip().find('group:',0,9) == -1:\n",
    "                print row[8:].strip()\n",
    "                "
   ]
  },
  {
   "cell_type": "code",
   "execution_count": 30,
   "metadata": {},
   "outputs": [
    {
     "name": "stdout",
     "output_type": "stream",
     "text": [
      "[u'0', u'0771044445', 'NA', 'NA']\n",
      "[u'1', u'0827229534', u'Patterns of Preaching: A Sermon Sampler', u'Book']\n",
      "[u'2', u'0738700797', u'Candlemas: Feast of Flames', u'Book']\n",
      "[u'3', u'0486287785', u'World War II Allied Fighter Planes Trading Cards', u'Book']\n",
      "[u'4', u'0842328327', u'Life Application Bible Commentary: 1 and 2 Timothy and Titus', u'Book']\n",
      "[u'5', u'1577943082', u'Prayers That Avail Much for Business: Executive', u'Book']\n",
      "[u'6', u'0486220125', u'How the Other Half Lives: Studies Among the Tenements of New York', u'Book']\n",
      "[u'7', u'B00000AU3R', u'Batik', u'Music']\n",
      "[u'8', u'0231118597', u'Losing Matt Shepard', u'Book']\n",
      "[u'9', u'1859677800', u'Making Bread: The Taste of Traditional Home-Baking', u'Book']\n",
      "[u'10', u'0375709363', u'The Edward Said Reader', u'Book']\n",
      "[u'11', u'0871318237', u'Resetting the Clock : Five Anti-Aging Hormones That Improve and Extend Life', u'Book']\n"
     ]
    }
   ],
   "source": [
    "output = []\n",
    "with io.open(\"newData.txt\",\"r\") as f:\n",
    "    for row in f:\n",
    "        if len(row) > 0:\n",
    "            if not row.strip().find('Id:',0,3) == -1:\n",
    "                if len(output)> 0:\n",
    "                    print output\n",
    "                output = [\"NA\",\"NA\",\"NA\",\"NA\"]\n",
    "                output[0] = row[3:].strip()\n",
    "                #print row[3:].strip()\n",
    "            if not row.strip().find('ASIN:',0,5) == -1:\n",
    "                output[1] = row[5:].strip()\n",
    "               # print row[5:].strip()\n",
    "            if not row.strip().find('title:',0,9) == -1:\n",
    "                output[2] = row[8:].strip()\n",
    "                #print row[8:].strip()\n",
    "            if not row.strip().find('group:',0,9) == -1:\n",
    "                output[3] = row[8:].strip()\n",
    "                #print row[8:].strip()\n",
    "    print output"
   ]
  },
  {
   "cell_type": "code",
   "execution_count": 36,
   "metadata": {},
   "outputs": [
    {
     "name": "stdout",
     "output_type": "stream",
     "text": [
      "None\n"
     ]
    }
   ],
   "source": [
    "fNew = open('./amazonFinalData.csv','w')\n",
    "writer = csv.writer(fNew)\n",
    "output = []\n",
    "with io.open(\"newData.txt\",\"r\",encoding=\"utf-8\") as f:\n",
    "    for row in f:\n",
    "        if len(row) > 0:\n",
    "            if not row.encode(\"utf-8\").strip().find('Id:',0,3) == -1:\n",
    "                if len(output)> 0:\n",
    "                    writer.writerow(output)\n",
    "                    #print output\n",
    "                output = [\"NA\",\"NA\",\"NA\",\"NA\"]\n",
    "                output[0] = row[3:].strip()\n",
    "                #print row[3:].strip()\n",
    "            if not row.encode(\"utf-8\").strip().find('ASIN:',0,5) == -1:\n",
    "                output[1] = row[5:].strip()\n",
    "               # print row[5:].strip()\n",
    "            if not row.encode(\"utf-8\").strip().find('title:',0,9) == -1:\n",
    "                output[2] = row[8:].strip()\n",
    "                #print row[8:].strip()\n",
    "            if not row.encode(\"utf-8\").strip().find('group:',0,9) == -1:\n",
    "                output[3] = row[8:].strip()\n",
    "                #print row[8:].strip()\n",
    "    print writer.writerow(output)\n",
    "\n",
    "f.close()\n",
    "fNew.close()"
   ]
  },
  {
   "cell_type": "code",
   "execution_count": 89,
   "metadata": {
    "collapsed": true
   },
   "outputs": [],
   "source": [
    "import unicodecsv as csv"
   ]
  },
  {
   "cell_type": "code",
   "execution_count": 93,
   "metadata": {},
   "outputs": [
    {
     "name": "stdout",
     "output_type": "stream",
     "text": [
      "5  0804215715  156101074X  0687023955  0687074231  082721619X\n",
      "5  0738700827  1567184960  1567182836  0738700525  0738700940\n",
      "0\n",
      "5  0842328130  0830818138  0842330313  0842328610  0842328572\n",
      "5  157794349X  0892749504  1577941829  0892749563  1577946006\n",
      "5  0486401960  0452283612  0486229076  0714840343  0374528993\n",
      "5  B00002616C  B0000261KX  B00006AM8D  B000059OB9  B0000261O7\n",
      "5  B000067D0Y  0375727191  080148605X  1560232579  0300089023\n",
      "0\n",
      "5  039474067X  0679730672  0679750541  1400030668  0896086704\n",
      "5  1591200695  0060984341  0553577514  1571742972  0962741817\n"
     ]
    }
   ],
   "source": [
    "#fNew = open('./amazonFinalData.csv','w')\n",
    "#writer = csv.writer(fNew)\n",
    "output = []\n",
    "with io.open(\"newData.txt\",\"r\",encoding=\"utf-8\") as f:\n",
    "    for row in f:\n",
    "        if len(row) > 0:\n",
    "           # if not row.encode(\"utf-8\").strip().find('Id:',0,3) == -1:\n",
    "               # writer.writerow(output)\n",
    "                    #print output\n",
    "              #  output = [\"NA\",\"NA\",\"NA\",\"NA\"]\n",
    "                #output[0] = row[3:].strip()\n",
    "                #print row[3:].strip()\n",
    "            #if not row.encode(\"utf-8\").strip().find('ASIN:',0,5) == -1:\n",
    "               # output[1] = row[5:].strip()\n",
    "               # print row[5:].strip()\n",
    "            if not row.encode(\"utf-8\").strip().find('similar:',0,11) == -1:\n",
    "                print row[11:].strip()\n",
    "                #print row[8:].strip()\n",
    "            #if not row.encode(\"utf-8\").strip().find('group:',0,9) == -1:\n",
    "            #    output[3] = row[8:].strip()\n",
    "                #print row[8:].strip()\n",
    "    #print writer.writerow(output)\n",
    "\n",
    "f.close()\n",
    "#fNew.close()"
   ]
  },
  {
   "cell_type": "code",
   "execution_count": 95,
   "metadata": {
    "collapsed": true
   },
   "outputs": [],
   "source": [
    "str = \"5  0804215715  156101074X  0687023955  0687074231  082721619X\""
   ]
  },
  {
   "cell_type": "code",
   "execution_count": 96,
   "metadata": {},
   "outputs": [
    {
     "name": "stdout",
     "output_type": "stream",
     "text": [
      "5  0804215715  156101074X  0687023955  0687074231  082721619X\n"
     ]
    }
   ],
   "source": [
    "print str"
   ]
  },
  {
   "cell_type": "code",
   "execution_count": 102,
   "metadata": {},
   "outputs": [
    {
     "data": {
      "text/plain": [
       "0.2"
      ]
     },
     "execution_count": 102,
     "metadata": {},
     "output_type": "execute_result"
    }
   ],
   "source": [
    "1.0/int(str.split(\"  \")[0])"
   ]
  },
  {
   "cell_type": "code",
   "execution_count": 133,
   "metadata": {},
   "outputs": [
    {
     "ename": "TypeError",
     "evalue": "'str' object is not callable",
     "output_type": "error",
     "traceback": [
      "\u001b[0;31m---------------------------------------------------------------------------\u001b[0m",
      "\u001b[0;31mTypeError\u001b[0m                                 Traceback (most recent call last)",
      "\u001b[0;32m<ipython-input-133-094857c83941>\u001b[0m in \u001b[0;36m<module>\u001b[0;34m()\u001b[0m\n\u001b[1;32m     27\u001b[0m                 \u001b[0;32mfor\u001b[0m \u001b[0mj\u001b[0m \u001b[0;32min\u001b[0m \u001b[0mrange\u001b[0m\u001b[0;34m(\u001b[0m\u001b[0mlen\u001b[0m\u001b[0;34m(\u001b[0m\u001b[0moutput\u001b[0m\u001b[0;34m)\u001b[0m\u001b[0;34m)\u001b[0m\u001b[0;34m:\u001b[0m\u001b[0;34m\u001b[0m\u001b[0m\n\u001b[1;32m     28\u001b[0m                     \u001b[0;31m#fNew.write(ASIN + \"/t\" + output[j] + \"/t\" + prob)\u001b[0m\u001b[0;34m\u001b[0m\u001b[0;34m\u001b[0m\u001b[0m\n\u001b[0;32m---> 29\u001b[0;31m                     \u001b[0;32mprint\u001b[0m \u001b[0mASIN\u001b[0m \u001b[0;34m+\u001b[0m \u001b[0;34m\"/t\"\u001b[0m \u001b[0;34m+\u001b[0m \u001b[0moutput\u001b[0m\u001b[0;34m[\u001b[0m\u001b[0mj\u001b[0m\u001b[0;34m]\u001b[0m \u001b[0;34m+\u001b[0m \u001b[0;34m\"/t\"\u001b[0m \u001b[0;34m+\u001b[0m \u001b[0mstr\u001b[0m\u001b[0;34m(\u001b[0m\u001b[0mprob\u001b[0m\u001b[0;34m)\u001b[0m\u001b[0;34m\u001b[0m\u001b[0m\n\u001b[0m\u001b[1;32m     30\u001b[0m \u001b[0;34m\u001b[0m\u001b[0m\n\u001b[1;32m     31\u001b[0m \u001b[0;34m\u001b[0m\u001b[0m\n",
      "\u001b[0;31mTypeError\u001b[0m: 'str' object is not callable"
     ]
    }
   ],
   "source": [
    "import io\n",
    "fNew = open('./product_rater.txt','w')\n",
    "#writer = csv.writer(fNew)\n",
    "output = []\n",
    "ASIN = \"\"\n",
    "with io.open(\"newData.txt\",\"r\",encoding=\"utf-8\") as f:\n",
    "    for row in f:\n",
    "        if len(row) > 0:\n",
    "            if not row.encode(\"utf-8\").strip().find('ASIN:',0,5) == -1:\n",
    "                output = []\n",
    "                ASIN = row[5:].strip()\n",
    "                output.append(ASIN)\n",
    "            if not row.encode(\"utf-8\").strip().find('similar:',0,11) == -1:\n",
    "                rowSimillar = row[11:].strip().split(\"  \")\n",
    "                if(len(rowSimillar) == 1  and int(rowSimillar[0])==0):\n",
    "                    continue\n",
    "                for i in range(len(rowSimillar)):\n",
    "                    if i == 0:\n",
    "                        if int(rowSimillar[i]) == 0:\n",
    "                            prob = 0\n",
    "                        else:\n",
    "                            prob = 1.0/int(rowSimillar[i])\n",
    "                    else:\n",
    "                        output.append(rowSimillar[i])\n",
    "                #output.append(prob)\n",
    "                \n",
    "                for j in range(len(output)):\n",
    "                    #fNew.write(ASIN + \"/t\" + output[j] + \"/t\" + prob)\n",
    "                    print ASIN + \"/t\" + output[j] + \"/t\" + str(prob)\n",
    "                \n",
    "                \n",
    "                #print row[8:].strip()\n",
    "            #if not row.encode(\"utf-8\").strip().find('group:',0,9) == -1:\n",
    "            #    output[3] = row[8:].strip()\n",
    "                #print row[8:].strip()\n",
    "    #print writer.writerow(output)\n",
    "\n",
    "f.close()\n",
    "fNew.close()"
   ]
  },
  {
   "cell_type": "code",
   "execution_count": 135,
   "metadata": {
    "collapsed": true
   },
   "outputs": [],
   "source": [
    "a = dict()"
   ]
  },
  {
   "cell_type": "code",
   "execution_count": 136,
   "metadata": {
    "collapsed": true
   },
   "outputs": [],
   "source": [
    "a[\"somevalue\"] = 10"
   ]
  },
  {
   "cell_type": "code",
   "execution_count": 138,
   "metadata": {},
   "outputs": [
    {
     "data": {
      "text/plain": [
       "10"
      ]
     },
     "execution_count": 138,
     "metadata": {},
     "output_type": "execute_result"
    }
   ],
   "source": [
    "a[\"somevalue\"]"
   ]
  },
  {
   "cell_type": "code",
   "execution_count": 140,
   "metadata": {
    "collapsed": true
   },
   "outputs": [],
   "source": [
    "ajay = dict()"
   ]
  },
  {
   "cell_type": "code",
   "execution_count": 142,
   "metadata": {
    "collapsed": true
   },
   "outputs": [],
   "source": [
    "ajay[1] = 1\n"
   ]
  },
  {
   "cell_type": "code",
   "execution_count": 145,
   "metadata": {},
   "outputs": [],
   "source": [
    "ajay[\"2\"] = 2"
   ]
  },
  {
   "cell_type": "code",
   "execution_count": 148,
   "metadata": {},
   "outputs": [
    {
     "ename": "KeyError",
     "evalue": "'3'",
     "output_type": "error",
     "traceback": [
      "\u001b[0;31m---------------------------------------------------------------------------\u001b[0m",
      "\u001b[0;31mKeyError\u001b[0m                                  Traceback (most recent call last)",
      "\u001b[0;32m<ipython-input-148-63a1e8cf3120>\u001b[0m in \u001b[0;36m<module>\u001b[0;34m()\u001b[0m\n\u001b[0;32m----> 1\u001b[0;31m \u001b[0majay\u001b[0m\u001b[0;34m[\u001b[0m\u001b[0;34m\"3\"\u001b[0m\u001b[0;34m]\u001b[0m\u001b[0;34m\u001b[0m\u001b[0m\n\u001b[0m",
      "\u001b[0;31mKeyError\u001b[0m: '3'"
     ]
    }
   ],
   "source": [
    "ajay[\"3\"]"
   ]
  },
  {
   "cell_type": "code",
   "execution_count": 154,
   "metadata": {},
   "outputs": [
    {
     "name": "stdout",
     "output_type": "stream",
     "text": [
      "2\n"
     ]
    }
   ],
   "source": [
    "print ajay.get(\"2\")"
   ]
  },
  {
   "cell_type": "code",
   "execution_count": 161,
   "metadata": {},
   "outputs": [
    {
     "name": "stdout",
     "output_type": "stream",
     "text": [
      "not ok\n"
     ]
    }
   ],
   "source": [
    "if  0:\n",
    "    print \"ok\"\n",
    "else:\n",
    "    print \"not ok\""
   ]
  },
  {
   "cell_type": "code",
   "execution_count": 163,
   "metadata": {
    "collapsed": true
   },
   "outputs": [],
   "source": [
    "\n",
    "import unicodecsv as csv\n",
    "import io\n",
    "\n",
    "allProd = dict()\n",
    "nonID = []"
   ]
  },
  {
   "cell_type": "code",
   "execution_count": 173,
   "metadata": {
    "collapsed": true
   },
   "outputs": [],
   "source": [
    "with io.open(\"newData.txt\",\"r\",encoding=\"utf-8\") as f2:\n",
    "    for row in f2:\n",
    "        if len(row) > 0:\n",
    "            if not row.encode(\"utf-8\").strip().find('Id:',0,3) == -1:\n",
    "                idASIN = row[3:].strip()                    \n",
    "            if not row.encode(\"utf-8\").strip().find('ASIN:',0,5) == -1:\n",
    "                ASIN = row[5:].strip()\n",
    "                if not allProd.get(ASIN):\n",
    "                        allProd[ASIN] = idASIN\n",
    "                else:\n",
    "                    if allProd[ASIN] == -1:\n",
    "                        allProd[ASIN] = idASIN\n",
    "            if not row.encode(\"utf-8\").strip().find('similar:',0,11) == -1:\n",
    "                rowSimillar = row[11:].strip().split(\"  \")\n",
    "                #for 0 simillar products\n",
    "                if(len(rowSimillar) == 1  and int(rowSimillar[0])==0):\n",
    "                    continue\n",
    "                for i in range(len(rowSimillar)):\n",
    "                    if not allProd.get(rowSimillar[i]):\n",
    "                        allProd[rowSimillar[i]] = -1\n",
    "                        "
   ]
  },
  {
   "cell_type": "code",
   "execution_count": 174,
   "metadata": {
    "collapsed": true
   },
   "outputs": [],
   "source": [
    "f2.close()"
   ]
  },
  {
   "cell_type": "code",
   "execution_count": 176,
   "metadata": {},
   "outputs": [
    {
     "name": "stdout",
     "output_type": "stream",
     "text": [
      "0771044445 0\n",
      "0827229534 1\n",
      "0738700797 2\n",
      "0452283612 -1\n",
      "1571742972 -1\n",
      "0842328327 4\n",
      "0486220125 6\n",
      "1577943082 5\n",
      "080148605X -1\n",
      "039474067X -1\n",
      "0375709363 10\n",
      "1859677800 9\n",
      "082721619X -1\n",
      "B00002616C -1\n",
      "0871318237 11\n",
      "1577941829 -1\n",
      "B000067D0Y -1\n",
      "0553577514 -1\n",
      "1400030668 -1\n",
      "0738700827 -1\n",
      "0300089023 -1\n",
      "B00006AM8D -1\n",
      "1567184960 -1\n",
      "0830818138 -1\n",
      "B00000AU3R 7\n",
      "0060984341 -1\n",
      "0687074231 -1\n",
      "5 -1\n",
      "0374528993 -1\n",
      "0486287785 3\n",
      "B0000261O7 -1\n",
      "0486229076 -1\n",
      "0679730672 -1\n",
      "0842328130 -1\n",
      "156101074X -1\n",
      "0896086704 -1\n",
      "B0000261KX -1\n",
      "1567182836 -1\n",
      "1577946006 -1\n",
      "0842330313 -1\n",
      "0231118597 8\n",
      "0714840343 -1\n",
      "1560232579 -1\n",
      "0679750541 -1\n",
      "0486401960 -1\n",
      "0738700940 -1\n",
      "0804215715 -1\n",
      "0375727191 -1\n",
      "0962741817 -1\n",
      "157794349X -1\n",
      "0892749563 -1\n",
      "0842328610 -1\n",
      "0842328572 -1\n",
      "0892749504 -1\n",
      "1591200695 -1\n",
      "0687023955 -1\n",
      "B000059OB9 -1\n",
      "0738700525 -1\n"
     ]
    }
   ],
   "source": [
    "for key in allProd:\n",
    "     print key,allProd[key]"
   ]
  },
  {
   "cell_type": "code",
   "execution_count": 178,
   "metadata": {},
   "outputs": [
    {
     "data": {
      "text/plain": [
       "u'11'"
      ]
     },
     "execution_count": 178,
     "metadata": {},
     "output_type": "execute_result"
    }
   ],
   "source": [
    "idASIN"
   ]
  },
  {
   "cell_type": "code",
   "execution_count": 180,
   "metadata": {
    "collapsed": true
   },
   "outputs": [],
   "source": [
    "idASININT = int(idASIN)\n",
    "for key in allProd:\n",
    "     if allProd[key] == -1:\n",
    "        allProd[key] = idASININT\n",
    "        idASININT = idASININT + 1\n",
    "        "
   ]
  },
  {
   "cell_type": "code",
   "execution_count": 181,
   "metadata": {},
   "outputs": [
    {
     "name": "stdout",
     "output_type": "stream",
     "text": [
      "0771044445 0\n",
      "0827229534 1\n",
      "0738700797 2\n",
      "0452283612 11\n",
      "1571742972 12\n",
      "0842328327 4\n",
      "0486220125 6\n",
      "1577943082 5\n",
      "080148605X 13\n",
      "039474067X 14\n",
      "0375709363 10\n",
      "1859677800 9\n",
      "082721619X 15\n",
      "B00002616C 16\n",
      "0871318237 11\n",
      "1577941829 17\n",
      "B000067D0Y 18\n",
      "0553577514 19\n",
      "1400030668 20\n",
      "0738700827 21\n",
      "0300089023 22\n",
      "B00006AM8D 23\n",
      "1567184960 24\n",
      "0830818138 25\n",
      "B00000AU3R 7\n",
      "0060984341 26\n",
      "0687074231 27\n",
      "5 28\n",
      "0374528993 29\n",
      "0486287785 3\n",
      "B0000261O7 30\n",
      "0486229076 31\n",
      "0679730672 32\n",
      "0842328130 33\n",
      "156101074X 34\n",
      "0896086704 35\n",
      "B0000261KX 36\n",
      "1567182836 37\n",
      "1577946006 38\n",
      "0842330313 39\n",
      "0231118597 8\n",
      "0714840343 40\n",
      "1560232579 41\n",
      "0679750541 42\n",
      "0486401960 43\n",
      "0738700940 44\n",
      "0804215715 45\n",
      "0375727191 46\n",
      "0962741817 47\n",
      "157794349X 48\n",
      "0892749563 49\n",
      "0842328610 50\n",
      "0842328572 51\n",
      "0892749504 52\n",
      "1591200695 53\n",
      "0687023955 54\n",
      "B000059OB9 55\n",
      "0738700525 56\n"
     ]
    }
   ],
   "source": [
    "for key in allProd:\n",
    "     print key,allProd[key]"
   ]
  }
 ],
 "metadata": {
  "kernelspec": {
   "display_name": "Python 2",
   "language": "python",
   "name": "python2"
  },
  "language_info": {
   "codemirror_mode": {
    "name": "ipython",
    "version": 2
   },
   "file_extension": ".py",
   "mimetype": "text/x-python",
   "name": "python",
   "nbconvert_exporter": "python",
   "pygments_lexer": "ipython2",
   "version": "2.7.13"
  }
 },
 "nbformat": 4,
 "nbformat_minor": 2
}
